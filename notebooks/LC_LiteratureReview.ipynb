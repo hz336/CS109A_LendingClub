{
 "cells": [
  {
   "cell_type": "markdown",
   "metadata": {},
   "source": [
    "# Literature Review"
   ]
  },
  {
   "cell_type": "markdown",
   "metadata": {},
   "source": [
    "In 1974, Rober Merton published a model to asses the default risk of a company by considering the company’s equity as a call option on the asset [1]. From then, financial analysts are using the Merton’s model to calculated default probabilities of the corporate bonds. As financial industry getting more digitalized for the last 20 years, more characteristics of the loans are discovered and quants start to combine the output of the merton model and the addition predictors to train logistic regression to predict the default risk of the corporate bonds [2]. \n",
    "\n",
    "For the last few years, thanks to the dramatic increase of the computer power and data availability, financial instituitions start to use different machine learning skills such as random forest, Boosting, Neural Networks etc, to predict the default risk of the loans [3]. Given the large amount of loan data with plenty of attributes from Lending Club, we will train various machine learning models to predict the default risk of the loans.\n"
   ]
  },
  {
   "cell_type": "markdown",
   "metadata": {},
   "source": [
    "### References \n",
    "\n",
    "[1] Merton, R C (1974), ‘The pricing of corporate debt: the risk structure of interest rates’, Journal of Finance, Vol. 29, no. 2, December, pages 449–70<br/>\n",
    "[2] Misankova, M. et al. (2015). Determination of Default Probability by Loss Given Default, Procedia Economics and finance, Vol 26, pp. 411- 417.<br/>\n",
    "[3] Bacham, Janet Zhao(2017), Machine Learning: Challenges, Lessons, and Opportunities in Credit Risk Modeling, MOODY'S ANALYTICS RISK PERSPECTIVES | MANAGING DISRUPTION | VOLUME IX | JULY 2017"
   ]
  }
 ],
 "metadata": {
  "colab": {
   "collapsed_sections": [],
   "name": "day_level_test.ipynb",
   "provenance": [],
   "toc_visible": true,
   "version": "0.3.2"
  },
  "kernelspec": {
   "display_name": "Python 3",
   "language": "python",
   "name": "python3"
  },
  "language_info": {
   "codemirror_mode": {
    "name": "ipython",
    "version": 3
   },
   "file_extension": ".py",
   "mimetype": "text/x-python",
   "name": "python",
   "nbconvert_exporter": "python",
   "pygments_lexer": "ipython3",
   "version": "3.6.5"
  }
 },
 "nbformat": 4,
 "nbformat_minor": 1
}
